{
 "cells": [
  {
   "cell_type": "code",
   "execution_count": 2,
   "metadata": {
    "tags": []
   },
   "outputs": [],
   "source": [
    "import pyspark\n",
    "import os\n",
    "from dotenv import load_dotenv\n",
    "from pathlib import Path\n",
    "from pyspark.sql.functions import from_json, col, avg, window, sum, current_timestamp\n",
    "from pyspark.sql.types import StructType, StructField, StringType, IntegerType, TimestampType\n",
    "from pyspark.sql.window import Window"
   ]
  },
  {
   "cell_type": "code",
   "execution_count": 3,
   "metadata": {
    "tags": []
   },
   "outputs": [
    {
     "data": {
      "text/plain": [
       "True"
      ]
     },
     "execution_count": 3,
     "metadata": {},
     "output_type": "execute_result"
    }
   ],
   "source": [
    "dotenv_path = Path(\"/resources/.env\")\n",
    "load_dotenv(dotenv_path=dotenv_path)"
   ]
  },
  {
   "cell_type": "code",
   "execution_count": 4,
   "metadata": {
    "tags": []
   },
   "outputs": [
    {
     "name": "stdout",
     "output_type": "stream",
     "text": [
      "postgres env: jdbc:postgresql://streaming-postgres:5432/warehouse, user, password\n"
     ]
    }
   ],
   "source": [
    "spark_hostname = os.getenv(\"SPARK_MASTER_HOST_NAME\")\n",
    "spark_port = os.getenv(\"SPARK_MASTER_PORT\")\n",
    "kafka_host = os.getenv(\"KAFKA_HOST\")\n",
    "kafka_topic = os.getenv(\"KAFKA_TOPIC_NAME\")\n",
    "postgres_url = f\"jdbc:postgresql://{os.getenv('POSTGRES_CONTAINER_NAME')}:{os.getenv('POSTGRES_PORT')}/{os.getenv('POSTGRES_DW_DB')}\"\n",
    "postgres_user = os.getenv(\"POSTGRES_USER\")\n",
    "postgres_password = os.getenv(\"POSTGRES_PASSWORD\")\n",
    "print(f\"postgres env: {postgres_url}, {postgres_user}, {postgres_password}\")"
   ]
  },
  {
   "cell_type": "code",
   "execution_count": 5,
   "metadata": {
    "tags": []
   },
   "outputs": [
    {
     "name": "stdout",
     "output_type": "stream",
     "text": [
      "spark://streaming-spark-master:7077\n"
     ]
    }
   ],
   "source": [
    "spark_host = f\"spark://{spark_hostname}:{spark_port}\"\n",
    "print(spark_host)"
   ]
  },
  {
   "cell_type": "code",
   "execution_count": 6,
   "metadata": {
    "tags": []
   },
   "outputs": [],
   "source": [
    "os.environ[\"PYSPARK_SUBMIT_ARGS\"] = (\n",
    "    \"--packages org.apache.spark:spark-sql-kafka-0-10_2.12:3.3.2 org.postgresql:postgresql:42.2.18\"\n",
    ")"
   ]
  },
  {
   "cell_type": "code",
   "execution_count": null,
   "metadata": {
    "tags": []
   },
   "outputs": [],
   "source": [
    "spark = (\n",
    "    pyspark.sql.SparkSession.builder.appName(\"StreamingTest\")\n",
    "    .master(spark_host)\n",
    "    .config(\"spark.jars.packages\", \"org.apache.spark:spark-sql-kafka-0-10_2.12:3.3.0\")\n",
    "    .config(\"spark.sql.shuffle.partitions\", 4)\n",
    "    .config(\"spark.sql.streaming.forceDeleteTempCheckpointLocation\", True)\n",
    "    .getOrCreate()\n",
    ")\n",
    "\n",
    "spark.sparkContext.setLogLevel(\"WARN\")"
   ]
  },
  {
   "cell_type": "code",
   "execution_count": null,
   "metadata": {},
   "outputs": [],
   "source": [
    "schema = StructType(\n",
    "    [\n",
    "        StructField(\"transaction_id\", StringType(), True),\n",
    "        StructField(\"customer_id\", IntegerType(), True),\n",
    "        StructField(\"category\", StringType(), True),\n",
    "        StructField(\"brand\", StringType(), True),\n",
    "        StructField(\"product_name\", StringType(), True),\n",
    "        StructField(\"quantity\", IntegerType(), True),\n",
    "        StructField(\"price\", IntegerType(), True),\n",
    "        StructField(\"payment_method\", StringType(), True),\n",
    "        StructField(\"timestamp\", TimestampType(), True),\n",
    "    ]\n",
    ")\n",
    "\n",
    "stream_df = (\n",
    "    spark.readStream.format(\"kafka\")\n",
    "    .option(\"kafka.bootstrap.servers\", f\"{kafka_host}:9092\")\n",
    "    .option(\"subscribe\", kafka_topic)\n",
    "    .option(\"startingOffsets\", \"latest\")\n",
    "    .load()\n",
    ")\n",
    "\n",
    "parsed_df = stream_df.selectExpr(\"CAST(value AS STRING)\").select(from_json(col(\"value\"), schema).alias(\"data\")).select(\"data.*\")"
   ]
  },
  {
   "cell_type": "code",
   "execution_count": null,
   "metadata": {},
   "outputs": [],
   "source": [
    "# Window Aggregation\n",
    "windowed_df = (\n",
    "    parsed_df.withWatermark(\"timestamp\", \"5 minutes\")\n",
    "    .groupBy(\n",
    "        window(\"timestamp\", \"5 minutes\", \"5 minutes\"), \n",
    "        \"category\", \n",
    "        \"payment_method\"\n",
    "    )\n",
    "    .agg(\n",
    "        avg(\"price\").alias(\"avg_price\"),\n",
    "        sum(\"quantity\").alias(\"total_quantity\"),\n",
    "        sum(col(\"price\") * col(\"quantity\")).alias(\"total_amount\")\n",
    "    )\n",
    ")"
   ]
  },
  {
   "cell_type": "code",
   "execution_count": null,
   "metadata": {},
   "outputs": [],
   "source": [
    "# Write to PostgreSQL (transaction_details table)\n",
    "def write_to_transaction_details(df, epoch_id):\n",
    "    try:\n",
    "        df.show(truncate=False)\n",
    "        \n",
    "        df.write.format(\"jdbc\").mode(\"append\") \\\n",
    "            .option(\"url\", postgres_url) \\\n",
    "            .option(\"dbtable\", \"transaction_detail\") \\\n",
    "            .option(\"user\", postgres_user) \\\n",
    "            .option(\"password\", postgres_password) \\\n",
    "            .save()\n",
    "    except Exception as e:\n",
    "        print(f\"Error writing to PostgreSQL (transaction_detail): {e}\")\n",
    "\n",
    "# Write to PostgreSQL using foreachBatch (retail table)\n",
    "def write_to_postgres(df, epoch_id):\n",
    "    try:\n",
    "        df.show(truncate=False)\n",
    "        window_spec = Window.partitionBy(\"category\", \"payment_method\").orderBy(\"window.start\")\n",
    "\n",
    "        df_with_columns = df.withColumn(\"timestamp\", current_timestamp()) \\\n",
    "                            .withColumn(\"running_total\", sum(\"total_amount\").over(window_spec)) \\\n",
    "                            .drop(\"window\") \n",
    "\n",
    "        df_with_columns.write.format(\"jdbc\").mode(\"append\") \\\n",
    "            .option(\"url\", postgres_url) \\\n",
    "            .option(\"dbtable\", \"retail\") \\\n",
    "            .option(\"user\", postgres_user) \\\n",
    "            .option(\"password\", postgres_password) \\\n",
    "            .save()\n",
    "    except Exception as e:\n",
    "        print(f\"Error writing to PostgreSQL: {e}\")\n",
    "        \n",
    "# Write to PostgreSQL (transaction_details)\n",
    "transaction_details_df = parsed_df.select(\n",
    "    \"transaction_id\", \"customer_id\", \"category\", \"brand\", \"product_name\", \n",
    "    \"quantity\", \"price\", \"payment_method\", \"timestamp\"\n",
    ")\n",
    "\n",
    "transaction_details_query = transaction_details_df.writeStream \\\n",
    "    .outputMode(\"append\") \\\n",
    "    .foreachBatch(write_to_transaction_details) \\\n",
    "    .trigger(processingTime=\"5 minutes\") \\\n",
    "    .start()\n",
    "\n",
    "# Write to PostgreSQL (retail)\n",
    "windowed_query = windowed_df.writeStream \\\n",
    "    .outputMode(\"update\") \\\n",
    "    .foreachBatch(write_to_postgres) \\\n",
    "    .trigger(processingTime=\"5 minutes\") \\\n",
    "    .start()\n",
    "\n",
    "# Wait for termination\n",
    "transaction_details_query.awaitTermination()\n",
    "windowed_query.awaitTermination()"
   ]
  }
 ],
 "metadata": {
  "kernelspec": {
   "display_name": "Python 3 (ipykernel)",
   "language": "python",
   "name": "python3"
  },
  "language_info": {
   "codemirror_mode": {
    "name": "ipython",
    "version": 3
   },
   "file_extension": ".py",
   "mimetype": "text/x-python",
   "name": "python",
   "nbconvert_exporter": "python",
   "pygments_lexer": "ipython3",
   "version": "3.10.10"
  }
 },
 "nbformat": 4,
 "nbformat_minor": 4
}
