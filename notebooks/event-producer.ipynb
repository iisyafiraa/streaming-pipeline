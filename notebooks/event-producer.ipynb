{
 "cells": [
  {
   "cell_type": "code",
   "execution_count": 1,
   "metadata": {
    "tags": []
   },
   "outputs": [],
   "source": [
    "import json\n",
    "import uuid\n",
    "import os\n",
    "import json\n",
    "from dotenv import load_dotenv\n",
    "from pathlib import Path\n",
    "from kafka import KafkaProducer\n",
    "from faker import Faker\n",
    "from time import sleep\n",
    "from datetime import datetime, timedelta"
   ]
  },
  {
   "cell_type": "code",
   "execution_count": 2,
   "metadata": {
    "tags": []
   },
   "outputs": [
    {
     "data": {
      "text/plain": [
       "True"
      ]
     },
     "execution_count": 2,
     "metadata": {},
     "output_type": "execute_result"
    }
   ],
   "source": [
    "dotenv_path = Path(\"/resources/.env\")\n",
    "load_dotenv(dotenv_path=dotenv_path)"
   ]
  },
  {
   "cell_type": "code",
   "execution_count": 3,
   "metadata": {
    "tags": []
   },
   "outputs": [
    {
     "name": "stdout",
     "output_type": "stream",
     "text": [
      "streaming-kafka test-topic-streaming\n"
     ]
    }
   ],
   "source": [
    "kafka_host = os.getenv(\"KAFKA_HOST\")\n",
    "kafka_topic = os.getenv(\"KAFKA_TOPIC_NAME\")\n",
    "\n",
    "print(kafka_host,kafka_topic)"
   ]
  },
  {
   "cell_type": "code",
   "execution_count": 5,
   "metadata": {
    "tags": []
   },
   "outputs": [],
   "source": [
    "producer = KafkaProducer(bootstrap_servers=f\"{kafka_host}:9092\")\n",
    "faker = Faker()"
   ]
  },
  {
   "cell_type": "code",
   "execution_count": 6,
   "metadata": {
    "tags": []
   },
   "outputs": [],
   "source": [
    "class DataGenerator(object):\n",
    "    @staticmethod\n",
    "    def get_data():\n",
    "        now = datetime.now()\n",
    "\n",
    "        return {\n",
    "            \"transaction_id\": uuid.uuid4().__str__(),\n",
    "            \"customer_id\": faker.random_int(min=1, max=1000),\n",
    "            \"category\": faker.random_element(\n",
    "                elements=(\"Skincare\", \"Makeup\", \"Hair Care\", \"Bath & Body\")\n",
    "            ),\n",
    "            \"brand\": faker.random_element(\n",
    "                elements=(\"Maybelline\", \"Make Over\", \"Wardah\", \"Barenbliss\", \"Sea Make Up\",\n",
    "                          \"SKIN 1004\", \"COSRX\", \"Esqa\", \"YOU\", \"Grace and Glow\", \"Skintific\",\n",
    "                          \"Laneige\", \"Vaseline\", \"SK-II\", \"Somethinc\", \"Scarlett\", \"Avoskin\",\n",
    "                          \"Whitelab\", \"Azarine\", \"Erha\", \"MS Glow\", \"L'Oreal\", \"Cetaphil\")\n",
    "            ) ,\n",
    "            \"product_name\": faker.random_element(\n",
    "                elements=(\"Cushion\", \"Foundation\", \"Loose Powder\", \"Lipstick\", \"Liptint\",\"Lipcream\",\n",
    "                          \"Setting Spray\", \"Highlighter\", \"Eyebrow\", \"Eyeliner\", \"Mascara\", \"Face Pallete\",\n",
    "                          \"Cleansing Oil\", \"Face Wash\", \"Makeup Remover\", \"Serum\", \"Fase Mask\", \"Lipbalm\",\n",
    "                          \"Toner\", \"Sunscreen\", \"Moisturizer\", \"Lip Serum\", \"Shampoo\", \"Hair Vitamin\",\n",
    "                          \"Hair Oil\", \"Body Wash\", \"Body Lotion\", \"Deodorant\", \"Body Serum\")\n",
    "            ),\n",
    "            \"quantity\": faker.random_int(min=1, max=10),\n",
    "            \"price\": faker.random_int(min=10000, max=1500000),\n",
    "            \"payment_method\": faker.random_element(\n",
    "                elements=(\"COD\", \"Debit Card\", \"Credit Card\", \"Paylater\")\n",
    "            ),\n",
    "            \"timestamp\": faker.unix_time(\n",
    "                start_datetime=now - timedelta(minutes=60), end_datetime=now\n",
    "            ),\n",
    "        }"
   ]
  },
  {
   "cell_type": "code",
   "execution_count": null,
   "metadata": {
    "tags": []
   },
   "outputs": [
    {
     "name": "stdout",
     "output_type": "stream",
     "text": [
      "Sending payload: b'{\"transaction_id\": \"0c9e5f56-30ac-42a9-b0d9-93a99730709d\", \"customer_id\": 285, \"category\": \"Hair Care\", \"brand\": \"Laneige\", \"product_name\": \"Face Pallete\", \"quantity\": 2, \"price\": 439439, \"payment_method\": \"Paylater\", \"timestamp\": 1737904330}'\n",
      "Response: RecordMetadata(topic='test-topic-streaming', partition=0, topic_partition=TopicPartition(topic='test-topic-streaming', partition=0), offset=10433, timestamp=1737907610890, log_start_offset=0, checksum=None, serialized_key_size=-1, serialized_value_size=242, serialized_header_size=-1)\n",
      "=-=-=-=-=-=-=-=-=-=-=-=-=-=-=-=-=-=-=-=-\n",
      "Sending payload: b'{\"transaction_id\": \"9c7c4fc3-0b3f-4101-8f9c-d89a01ed43cb\", \"customer_id\": 766, \"category\": \"Bath & Body\", \"brand\": \"Maybelline\", \"product_name\": \"Eyeliner\", \"quantity\": 10, \"price\": 378699, \"payment_method\": \"Debit Card\", \"timestamp\": 1737905022}'\n",
      "Response: RecordMetadata(topic='test-topic-streaming', partition=0, topic_partition=TopicPartition(topic='test-topic-streaming', partition=0), offset=10434, timestamp=1737907613965, log_start_offset=0, checksum=None, serialized_key_size=-1, serialized_value_size=246, serialized_header_size=-1)\n",
      "=-=-=-=-=-=-=-=-=-=-=-=-=-=-=-=-=-=-=-=-\n",
      "Sending payload: b'{\"transaction_id\": \"04282cea-de06-4857-850d-f66c23593abe\", \"customer_id\": 890, \"category\": \"Makeup\", \"brand\": \"Vaseline\", \"product_name\": \"Lipbalm\", \"quantity\": 4, \"price\": 1237997, \"payment_method\": \"Debit Card\", \"timestamp\": 1737907531}'\n",
      "Response: RecordMetadata(topic='test-topic-streaming', partition=0, topic_partition=TopicPartition(topic='test-topic-streaming', partition=0), offset=10435, timestamp=1737907616976, log_start_offset=0, checksum=None, serialized_key_size=-1, serialized_value_size=238, serialized_header_size=-1)\n",
      "=-=-=-=-=-=-=-=-=-=-=-=-=-=-=-=-=-=-=-=-\n",
      "Sending payload: b'{\"transaction_id\": \"7da9128d-83a2-404c-8815-2cd692503eea\", \"customer_id\": 615, \"category\": \"Bath & Body\", \"brand\": \"YOU\", \"product_name\": \"Shampoo\", \"quantity\": 7, \"price\": 1323628, \"payment_method\": \"Credit Card\", \"timestamp\": 1737904242}'\n",
      "Response: RecordMetadata(topic='test-topic-streaming', partition=0, topic_partition=TopicPartition(topic='test-topic-streaming', partition=0), offset=10436, timestamp=1737907619986, log_start_offset=0, checksum=None, serialized_key_size=-1, serialized_value_size=239, serialized_header_size=-1)\n",
      "=-=-=-=-=-=-=-=-=-=-=-=-=-=-=-=-=-=-=-=-\n",
      "Sending payload: b'{\"transaction_id\": \"25972aaf-7473-46b0-a9a2-42f563d3ac67\", \"customer_id\": 528, \"category\": \"Skincare\", \"brand\": \"Scarlett\", \"product_name\": \"Serum\", \"quantity\": 1, \"price\": 643173, \"payment_method\": \"Paylater\", \"timestamp\": 1737905377}'\n",
      "Response: RecordMetadata(topic='test-topic-streaming', partition=0, topic_partition=TopicPartition(topic='test-topic-streaming', partition=0), offset=10437, timestamp=1737907622990, log_start_offset=0, checksum=None, serialized_key_size=-1, serialized_value_size=235, serialized_header_size=-1)\n",
      "=-=-=-=-=-=-=-=-=-=-=-=-=-=-=-=-=-=-=-=-\n",
      "Sending payload: b'{\"transaction_id\": \"f22d0f6a-9642-4033-8685-86026c16a4bd\", \"customer_id\": 25, \"category\": \"Bath & Body\", \"brand\": \"YOU\", \"product_name\": \"Mascara\", \"quantity\": 6, \"price\": 174058, \"payment_method\": \"Credit Card\", \"timestamp\": 1737905694}'\n",
      "Response: RecordMetadata(topic='test-topic-streaming', partition=0, topic_partition=TopicPartition(topic='test-topic-streaming', partition=0), offset=10438, timestamp=1737907626001, log_start_offset=0, checksum=None, serialized_key_size=-1, serialized_value_size=237, serialized_header_size=-1)\n",
      "=-=-=-=-=-=-=-=-=-=-=-=-=-=-=-=-=-=-=-=-\n",
      "Sending payload: b'{\"transaction_id\": \"73f8732e-30ed-47cd-8fa1-263477b50506\", \"customer_id\": 330, \"category\": \"Bath & Body\", \"brand\": \"Cetaphil\", \"product_name\": \"Eyebrow\", \"quantity\": 10, \"price\": 528767, \"payment_method\": \"Credit Card\", \"timestamp\": 1737907599}'\n",
      "Response: RecordMetadata(topic='test-topic-streaming', partition=0, topic_partition=TopicPartition(topic='test-topic-streaming', partition=0), offset=10439, timestamp=1737907629014, log_start_offset=0, checksum=None, serialized_key_size=-1, serialized_value_size=244, serialized_header_size=-1)\n",
      "=-=-=-=-=-=-=-=-=-=-=-=-=-=-=-=-=-=-=-=-\n",
      "Sending payload: b'{\"transaction_id\": \"2a7f1912-cde9-495d-bb3d-c9bd52d5cb6b\", \"customer_id\": 732, \"category\": \"Makeup\", \"brand\": \"Cetaphil\", \"product_name\": \"Hair Oil\", \"quantity\": 4, \"price\": 659475, \"payment_method\": \"COD\", \"timestamp\": 1737905375}'\n",
      "Response: RecordMetadata(topic='test-topic-streaming', partition=0, topic_partition=TopicPartition(topic='test-topic-streaming', partition=0), offset=10440, timestamp=1737907632033, log_start_offset=0, checksum=None, serialized_key_size=-1, serialized_value_size=231, serialized_header_size=-1)\n",
      "=-=-=-=-=-=-=-=-=-=-=-=-=-=-=-=-=-=-=-=-\n",
      "Sending payload: b'{\"transaction_id\": \"a10f01bd-641d-4722-a345-8af4a72c99da\", \"customer_id\": 724, \"category\": \"Makeup\", \"brand\": \"YOU\", \"product_name\": \"Lipstick\", \"quantity\": 9, \"price\": 407585, \"payment_method\": \"Paylater\", \"timestamp\": 1737907289}'\n",
      "Response: RecordMetadata(topic='test-topic-streaming', partition=0, topic_partition=TopicPartition(topic='test-topic-streaming', partition=0), offset=10441, timestamp=1737907635049, log_start_offset=0, checksum=None, serialized_key_size=-1, serialized_value_size=231, serialized_header_size=-1)\n",
      "=-=-=-=-=-=-=-=-=-=-=-=-=-=-=-=-=-=-=-=-\n",
      "Sending payload: b'{\"transaction_id\": \"2c42fcf0-b1ac-4c53-93e0-ec75ec533305\", \"customer_id\": 438, \"category\": \"Hair Care\", \"brand\": \"SK-II\", \"product_name\": \"Liptint\", \"quantity\": 10, \"price\": 563141, \"payment_method\": \"COD\", \"timestamp\": 1737907567}'\n",
      "Response: RecordMetadata(topic='test-topic-streaming', partition=0, topic_partition=TopicPartition(topic='test-topic-streaming', partition=0), offset=10442, timestamp=1737907638062, log_start_offset=0, checksum=None, serialized_key_size=-1, serialized_value_size=231, serialized_header_size=-1)\n",
      "=-=-=-=-=-=-=-=-=-=-=-=-=-=-=-=-=-=-=-=-\n",
      "Sending payload: b'{\"transaction_id\": \"e03e863b-1578-4702-92aa-32539304cefa\", \"customer_id\": 866, \"category\": \"Bath & Body\", \"brand\": \"Cetaphil\", \"product_name\": \"Body Wash\", \"quantity\": 1, \"price\": 287146, \"payment_method\": \"Debit Card\", \"timestamp\": 1737904268}'\n",
      "Response: RecordMetadata(topic='test-topic-streaming', partition=0, topic_partition=TopicPartition(topic='test-topic-streaming', partition=0), offset=10443, timestamp=1737907641075, log_start_offset=0, checksum=None, serialized_key_size=-1, serialized_value_size=244, serialized_header_size=-1)\n",
      "=-=-=-=-=-=-=-=-=-=-=-=-=-=-=-=-=-=-=-=-\n",
      "Sending payload: b'{\"transaction_id\": \"015a58ef-17c7-4463-94b3-a99d2417801f\", \"customer_id\": 870, \"category\": \"Makeup\", \"brand\": \"Laneige\", \"product_name\": \"Moisturizer\", \"quantity\": 5, \"price\": 224603, \"payment_method\": \"Debit Card\", \"timestamp\": 1737907352}'\n",
      "Response: RecordMetadata(topic='test-topic-streaming', partition=0, topic_partition=TopicPartition(topic='test-topic-streaming', partition=0), offset=10444, timestamp=1737907644086, log_start_offset=0, checksum=None, serialized_key_size=-1, serialized_value_size=240, serialized_header_size=-1)\n",
      "=-=-=-=-=-=-=-=-=-=-=-=-=-=-=-=-=-=-=-=-\n",
      "Sending payload: b'{\"transaction_id\": \"7f06b984-f315-42ac-a7be-cb3684e0cb1e\", \"customer_id\": 617, \"category\": \"Bath & Body\", \"brand\": \"Cetaphil\", \"product_name\": \"Eyebrow\", \"quantity\": 7, \"price\": 1220986, \"payment_method\": \"Credit Card\", \"timestamp\": 1737905555}'\n",
      "Response: RecordMetadata(topic='test-topic-streaming', partition=0, topic_partition=TopicPartition(topic='test-topic-streaming', partition=0), offset=10445, timestamp=1737907647099, log_start_offset=0, checksum=None, serialized_key_size=-1, serialized_value_size=244, serialized_header_size=-1)\n",
      "=-=-=-=-=-=-=-=-=-=-=-=-=-=-=-=-=-=-=-=-\n",
      "Sending payload: b'{\"transaction_id\": \"20c658c5-4b20-4fa2-82e8-4a7834fcab79\", \"customer_id\": 187, \"category\": \"Skincare\", \"brand\": \"Whitelab\", \"product_name\": \"Serum\", \"quantity\": 3, \"price\": 862321, \"payment_method\": \"Paylater\", \"timestamp\": 1737906175}'\n",
      "Response: RecordMetadata(topic='test-topic-streaming', partition=0, topic_partition=TopicPartition(topic='test-topic-streaming', partition=0), offset=10446, timestamp=1737907650112, log_start_offset=0, checksum=None, serialized_key_size=-1, serialized_value_size=235, serialized_header_size=-1)\n",
      "=-=-=-=-=-=-=-=-=-=-=-=-=-=-=-=-=-=-=-=-\n",
      "Sending payload: b'{\"transaction_id\": \"daf5d13d-77cb-49f5-92e7-eef5b9c291e3\", \"customer_id\": 775, \"category\": \"Makeup\", \"brand\": \"Scarlett\", \"product_name\": \"Foundation\", \"quantity\": 3, \"price\": 456047, \"payment_method\": \"COD\", \"timestamp\": 1737907625}'\n",
      "Response: RecordMetadata(topic='test-topic-streaming', partition=0, topic_partition=TopicPartition(topic='test-topic-streaming', partition=0), offset=10447, timestamp=1737907653110, log_start_offset=0, checksum=None, serialized_key_size=-1, serialized_value_size=233, serialized_header_size=-1)\n",
      "=-=-=-=-=-=-=-=-=-=-=-=-=-=-=-=-=-=-=-=-\n",
      "Sending payload: b'{\"transaction_id\": \"7f229190-6ff8-4a16-8870-1bcf5a1d0b20\", \"customer_id\": 177, \"category\": \"Hair Care\", \"brand\": \"YOU\", \"product_name\": \"Deodorant\", \"quantity\": 10, \"price\": 91435, \"payment_method\": \"Paylater\", \"timestamp\": 1737907557}'\n",
      "Response: RecordMetadata(topic='test-topic-streaming', partition=0, topic_partition=TopicPartition(topic='test-topic-streaming', partition=0), offset=10448, timestamp=1737907656120, log_start_offset=0, checksum=None, serialized_key_size=-1, serialized_value_size=235, serialized_header_size=-1)\n",
      "=-=-=-=-=-=-=-=-=-=-=-=-=-=-=-=-=-=-=-=-\n",
      "Sending payload: b'{\"transaction_id\": \"5d1a1e00-c11c-4cda-91c8-daacd01f8a63\", \"customer_id\": 289, \"category\": \"Bath & Body\", \"brand\": \"SK-II\", \"product_name\": \"Mascara\", \"quantity\": 8, \"price\": 837232, \"payment_method\": \"COD\", \"timestamp\": 1737907195}'\n",
      "Response: RecordMetadata(topic='test-topic-streaming', partition=0, topic_partition=TopicPartition(topic='test-topic-streaming', partition=0), offset=10449, timestamp=1737907659133, log_start_offset=0, checksum=None, serialized_key_size=-1, serialized_value_size=232, serialized_header_size=-1)\n",
      "=-=-=-=-=-=-=-=-=-=-=-=-=-=-=-=-=-=-=-=-\n",
      "Sending payload: b'{\"transaction_id\": \"034d649a-c3d5-471e-b7df-548f04dc177f\", \"customer_id\": 289, \"category\": \"Skincare\", \"brand\": \"Whitelab\", \"product_name\": \"Lipbalm\", \"quantity\": 5, \"price\": 337578, \"payment_method\": \"Paylater\", \"timestamp\": 1737906746}'\n",
      "Response: RecordMetadata(topic='test-topic-streaming', partition=0, topic_partition=TopicPartition(topic='test-topic-streaming', partition=0), offset=10450, timestamp=1737907662144, log_start_offset=0, checksum=None, serialized_key_size=-1, serialized_value_size=237, serialized_header_size=-1)\n",
      "=-=-=-=-=-=-=-=-=-=-=-=-=-=-=-=-=-=-=-=-\n",
      "Sending payload: b'{\"transaction_id\": \"68e66b61-aceb-4872-9ffd-24fc69391c53\", \"customer_id\": 957, \"category\": \"Bath & Body\", \"brand\": \"YOU\", \"product_name\": \"Face Pallete\", \"quantity\": 3, \"price\": 1419641, \"payment_method\": \"COD\", \"timestamp\": 1737905733}'\n",
      "Response: RecordMetadata(topic='test-topic-streaming', partition=0, topic_partition=TopicPartition(topic='test-topic-streaming', partition=0), offset=10451, timestamp=1737907665155, log_start_offset=0, checksum=None, serialized_key_size=-1, serialized_value_size=236, serialized_header_size=-1)\n",
      "=-=-=-=-=-=-=-=-=-=-=-=-=-=-=-=-=-=-=-=-\n"
     ]
    }
   ],
   "source": [
    "while True:\n",
    "    data = DataGenerator.get_data()  \n",
    "    json_data = json.dumps(data).encode(\"utf-8\") \n",
    "    \n",
    "    print(f\"Sending payload: {json_data}\", flush=True)\n",
    "    \n",
    "    try:\n",
    "        response = producer.send(topic=kafka_topic, value=json_data)\n",
    "        print(f\"Response: {response.get()}\", flush=True)\n",
    "    except Exception as e:\n",
    "        print(f\"Error sending message: {e}\", flush=True)\n",
    "    \n",
    "    print(\"=-\" * 20, flush=True)\n",
    "    sleep(3)"
   ]
  }
 ],
 "metadata": {
  "kernelspec": {
   "display_name": "Python 3 (ipykernel)",
   "language": "python",
   "name": "python3"
  },
  "language_info": {
   "codemirror_mode": {
    "name": "ipython",
    "version": 3
   },
   "file_extension": ".py",
   "mimetype": "text/x-python",
   "name": "python",
   "nbconvert_exporter": "python",
   "pygments_lexer": "ipython3",
   "version": "3.10.10"
  }
 },
 "nbformat": 4,
 "nbformat_minor": 4
}
